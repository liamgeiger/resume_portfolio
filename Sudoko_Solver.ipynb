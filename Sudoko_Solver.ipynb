{
 "cells": [
  {
   "cell_type": "markdown",
   "metadata": {},
   "source": [
    "Creating a nested list to act as the Sudoko game board."
   ]
  },
  {
   "cell_type": "code",
   "execution_count": 14,
   "metadata": {},
   "outputs": [
    {
     "name": "stdout",
     "output_type": "stream",
     "text": [
      "[[2 0 0 0 0 3 0 7 0]\n",
      " [0 0 7 0 0 5 8 0 3]\n",
      " [5 0 0 0 7 4 0 2 6]\n",
      " [0 0 0 0 8 0 3 0 7]\n",
      " [0 7 0 0 0 0 0 1 0]\n",
      " [9 0 5 0 1 0 0 0 0]\n",
      " [7 5 0 4 3 0 0 0 1]\n",
      " [8 0 3 9 0 0 7 0 0]\n",
      " [0 1 0 7 0 0 0 0 8]]\n"
     ]
    }
   ],
   "source": [
    "import numpy as np\n",
    "import tkinter as tk\n",
    "board=[[2,0,0,0,0,3,0,7,0],\n",
    "       [0,0,7,0,0,5,8,0,3],\n",
    "       [5,0,0,0,7,4,0,2,6],\n",
    "       [0,0,0,0,8,0,3,0,7],\n",
    "       [0,7,0,0,0,0,0,1,0],\n",
    "       [9,0,5,0,1,0,0,0,0],\n",
    "       [7,5,0,4,3,0,0,0,1],\n",
    "       [8,0,3,9,0,0,7,0,0],\n",
    "       [0,1,0,7,0,0,0,0,8]]\n",
    "grid=np.array(board)\n",
    "print(grid)"
   ]
  },
  {
   "cell_type": "markdown",
   "metadata": {},
   "source": [
    "Define a function that can check if a tested value n works with the filled out board."
   ]
  },
  {
   "cell_type": "code",
   "execution_count": 15,
   "metadata": {},
   "outputs": [],
   "source": [
    "def checker(d,a,n):\n",
    "    global grid\n",
    "    if n in grid[:,a]:\n",
    "        return False\n",
    "    elif n in grid[d,:]:\n",
    "        return False\n",
    "    a0=(a//3)*3\n",
    "    d0=(d//3)*3\n",
    "    for i in range(0,3):\n",
    "        for j in range(0,3):\n",
    "            if grid[d0+i][a0+j]==n:\n",
    "                return False\n",
    "    return True"
   ]
  },
  {
   "cell_type": "markdown",
   "metadata": {},
   "source": [
    "Define a function that can loop through the cells and test numbers 1-9 in cells with the value 0. If the value is possible update the grid and run the solver function again(recursion)."
   ]
  },
  {
   "cell_type": "code",
   "execution_count": 16,
   "metadata": {},
   "outputs": [],
   "source": [
    "def solver():\n",
    "    check=[]\n",
    "    for d in range(9):\n",
    "        for a in range(9):\n",
    "            if grid[d][a]==0:\n",
    "                for n in range(1,10):\n",
    "                    if checker(d,a,n):\n",
    "                        grid[d][a]=n\n",
    "                        solver()\n",
    "                        grid[d][a] = 0\n",
    "                return\n",
    "    print(np.matrix(grid))"
   ]
  },
  {
   "cell_type": "markdown",
   "metadata": {},
   "source": [
    "Test the program."
   ]
  },
  {
   "cell_type": "code",
   "execution_count": 17,
   "metadata": {},
   "outputs": [
    {
     "name": "stdout",
     "output_type": "stream",
     "text": [
      "[[2 8 4 6 9 3 1 7 5]\n",
      " [6 9 7 1 2 5 8 4 3]\n",
      " [5 3 1 8 7 4 9 2 6]\n",
      " [1 4 2 5 8 9 3 6 7]\n",
      " [3 7 8 2 4 6 5 1 9]\n",
      " [9 6 5 3 1 7 4 8 2]\n",
      " [7 5 6 4 3 8 2 9 1]\n",
      " [8 2 3 9 6 1 7 5 4]\n",
      " [4 1 9 7 5 2 6 3 8]]\n"
     ]
    }
   ],
   "source": [
    "solver()"
   ]
  },
  {
   "cell_type": "code",
   "execution_count": 18,
   "metadata": {},
   "outputs": [
    {
     "data": {
      "text/plain": [
       "array([[2, 0, 0, 0, 0, 3, 0, 7, 0],\n",
       "       [0, 0, 7, 0, 0, 5, 8, 0, 3],\n",
       "       [5, 0, 0, 0, 7, 4, 0, 2, 6],\n",
       "       [0, 0, 0, 0, 8, 0, 3, 0, 7],\n",
       "       [0, 7, 0, 0, 0, 0, 0, 1, 0],\n",
       "       [9, 0, 5, 0, 1, 0, 0, 0, 0],\n",
       "       [7, 5, 0, 4, 3, 0, 0, 0, 1],\n",
       "       [8, 0, 3, 9, 0, 0, 7, 0, 0],\n",
       "       [0, 1, 0, 7, 0, 0, 0, 0, 8]])"
      ]
     },
     "execution_count": 18,
     "metadata": {},
     "output_type": "execute_result"
    }
   ],
   "source": [
    "grid"
   ]
  },
  {
   "cell_type": "code",
   "execution_count": null,
   "metadata": {},
   "outputs": [],
   "source": []
  }
 ],
 "metadata": {
  "kernelspec": {
   "display_name": "Python 3",
   "language": "python",
   "name": "python3"
  },
  "language_info": {
   "codemirror_mode": {
    "name": "ipython",
    "version": 3
   },
   "file_extension": ".py",
   "mimetype": "text/x-python",
   "name": "python",
   "nbconvert_exporter": "python",
   "pygments_lexer": "ipython3",
   "version": "3.8.3"
  }
 },
 "nbformat": 4,
 "nbformat_minor": 4
}
