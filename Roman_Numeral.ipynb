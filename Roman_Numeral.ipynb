{
 "cells": [
  {
   "cell_type": "markdown",
   "metadata": {},
   "source": [
    "Letter I\tV\tX\tL\tC\tD\tM\n",
    "\n",
    "Value\t1\t5\t10\t50\t100\t500\t1000\n"
   ]
  },
  {
   "cell_type": "code",
   "execution_count": 1,
   "metadata": {},
   "outputs": [
    {
     "name": "stdout",
     "output_type": "stream",
     "text": [
      "XIV\n"
     ]
    }
   ],
   "source": [
    "def to_rn(num):\n",
    "    ones = ['I', 'X', 'C', 'M']\n",
    "    fives = ['V', 'L', 'D']\n",
    "    i = 0\n",
    "    out = []\n",
    "    \n",
    "    while num > 0:\n",
    "        n = num % 10\n",
    "        if 1 <= n <= 3:\n",
    "            out.append(ones[i] * n)\n",
    "        elif n == 4:\n",
    "             out.append(ones[i]+fives[i])\n",
    "        elif 5 <= n <=8:\n",
    "             out.append(fives[i] + ones[i] * (n-5))\n",
    "        elif n == 9:\n",
    "             out.append(ones[i] + ones [i+1])\n",
    "            \n",
    "        i += 1\n",
    "        num //= 10\n",
    "    out.reverse()    \n",
    "    return \"\".join(out)\n",
    "\n",
    "print(to_rn(14))"
   ]
  }
 ],
 "metadata": {
  "kernelspec": {
   "display_name": "Python 3",
   "language": "python",
   "name": "python3"
  },
  "language_info": {
   "codemirror_mode": {
    "name": "ipython",
    "version": 3
   },
   "file_extension": ".py",
   "mimetype": "text/x-python",
   "name": "python",
   "nbconvert_exporter": "python",
   "pygments_lexer": "ipython3",
   "version": "3.8.3"
  }
 },
 "nbformat": 4,
 "nbformat_minor": 4
}
