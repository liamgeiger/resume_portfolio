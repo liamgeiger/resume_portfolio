{
 "cells": [
  {
   "cell_type": "code",
   "execution_count": null,
   "id": "5cae92ca-16e0-4e76-822c-6effb3309544",
   "metadata": {},
   "outputs": [],
   "source": [
    "from mpl_toolkits.mplot3d import Axes3D\n",
    "from sklearn.preprocessing import StandardScaler\n",
    "import matplotlib.pyplot as plt # plotting\n",
    "import numpy as np # linear algebra\n",
    "import os # accessing directory structure\n",
    "import pandas as pd # data processing, CSV file I/O (e.g. pd.read_csv)\n",
    "import spacy "
   ]
  },
  {
   "cell_type": "code",
   "execution_count": 14,
   "id": "7a765b90-4a22-45e8-ab5a-45af34f408fe",
   "metadata": {},
   "outputs": [
    {
     "data": {
      "text/plain": [
       "6322"
      ]
     },
     "execution_count": 14,
     "metadata": {},
     "output_type": "execute_result"
    }
   ],
   "source": [
    "spacy.cli.download(\"en_core_web_sm\")"
   ]
  },
  {
   "cell_type": "code",
   "execution_count": 27,
   "id": "bf33eb57-c8dd-4264-a082-50617e609abc",
   "metadata": {},
   "outputs": [
    {
     "name": "stdout",
     "output_type": "stream",
     "text": [
      "../Documents/Data/forms\\abc\\ fn \\AbcPoems2AbcHkAndChinaV2Cauchy3Poembycheungshunsang.txt\n",
      "../Documents/Data/forms\\abc\\ fn \\AbcPoems887LiveWithLoveAnAbcPoemPoembyMelvinaGermain.txt\n",
      "../Documents/Data/forms\\abc\\ fn \\AbcPoemsAAbcAnglesOnAngelsPoemByCauchy3Poembycheungshunsang.txt\n",
      "../Documents/Data/forms\\abc\\ fn \\AbcPoemsAAbcBrazilDancePoemByCauchy3Poembycheungshunsang.txt\n",
      "../Documents/Data/forms\\abc\\ fn \\AbcPoemsAbc123PoembyGabriellaFranco.txt\n",
      "../Documents/Data/forms\\abc\\ fn \\AbcPoemsAbc2C81107PoembyCoreyThreet.txt\n"
     ]
    }
   ],
   "source": [
    "i=0\n",
    "for dirname, _, filenames in os.walk('../Documents/Data/forms'):\n",
    "    for filename in filenames:\n",
    "        if i<=5:\n",
    "            print(os.path.join(dirname,' fn ', filename))\n",
    "            i+=1\n",
    "        else:\n",
    "            break"
   ]
  },
  {
   "cell_type": "code",
   "execution_count": null,
   "id": "973f3fbe-0075-4a75-810c-7a9c52e9ab11",
   "metadata": {},
   "outputs": [],
   "source": []
  }
 ],
 "metadata": {
  "kernelspec": {
   "display_name": "Python 3",
   "language": "python",
   "name": "python3"
  },
  "language_info": {
   "codemirror_mode": {
    "name": "ipython",
    "version": 3
   },
   "file_extension": ".py",
   "mimetype": "text/x-python",
   "name": "python",
   "nbconvert_exporter": "python",
   "pygments_lexer": "ipython3",
   "version": "3.8.3"
  }
 },
 "nbformat": 4,
 "nbformat_minor": 5
}
